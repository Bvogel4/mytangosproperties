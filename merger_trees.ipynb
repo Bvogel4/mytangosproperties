{
 "cells": [
  {
   "cell_type": "code",
   "id": "initial_id",
   "metadata": {
    "collapsed": true,
    "ExecuteTime": {
     "end_time": "2025-05-23T19:35:37.153968Z",
     "start_time": "2025-05-23T19:35:34.781835Z"
    }
   },
   "source": [
    "import os\n",
    "import numpy as np\n",
    "os.environ['PYTHONPATH'] = '/home/bk639/mytangosproperty'\n",
    "os.environ['TANGOS_DB_CONNECTION'] = '/home/bk639/data/public_test/test/cptmarvel_test.db'\n",
    "os.environ['TANGOS_PROPERTY_MODULES']='mytangosproperty'\n",
    "import tangos\n",
    "import merger_trees\n",
    "sims = tangos.all_simulations()\n"
   ],
   "outputs": [],
   "execution_count": 1
  },
  {
   "metadata": {
    "ExecuteTime": {
     "end_time": "2025-05-23T19:35:37.485486Z",
     "start_time": "2025-05-23T19:35:37.479039Z"
    }
   },
   "cell_type": "code",
   "source": "sims",
   "id": "27155bd9ce3dd812",
   "outputs": [
    {
     "data": {
      "text/plain": [
       "[<Simulation(\"cptmarvel.cosmo25cmb.4096g5HbwK1BH\")>]"
      ]
     },
     "execution_count": 2,
     "metadata": {},
     "output_type": "execute_result"
    }
   ],
   "execution_count": 2
  },
  {
   "metadata": {
    "ExecuteTime": {
     "end_time": "2025-05-23T19:36:27.091469Z",
     "start_time": "2025-05-23T19:36:27.079134Z"
    }
   },
   "cell_type": "code",
   "source": "halo.keys()",
   "id": "dad7adcc2c604215",
   "outputs": [
    {
     "data": {
      "text/plain": [
       "['ptcls_in_common', 'ptcls_in_common']"
      ]
     },
     "execution_count": 9,
     "metadata": {},
     "output_type": "execute_result"
    }
   ],
   "execution_count": 9
  },
  {
   "metadata": {
    "ExecuteTime": {
     "end_time": "2025-05-23T19:36:15.309274Z",
     "start_time": "2025-05-23T19:36:15.299691Z"
    }
   },
   "cell_type": "code",
   "source": "halo = sims[0].timesteps[1].halos[0]\n",
   "id": "42c58c366c8b15ae",
   "outputs": [],
   "execution_count": 7
  },
  {
   "metadata": {
    "ExecuteTime": {
     "end_time": "2025-05-23T19:21:40.485906Z",
     "start_time": "2025-05-23T19:21:40.382859Z"
    }
   },
   "cell_type": "code",
   "source": [
    "trees = []\n",
    "main_lines = []\n",
    "\n",
    "tree, main_line = merger_trees.build_merger_tree(halo, max_depth=4)\n",
    "\n",
    "\n",
    "# Check if any node in the main line is a merger\n",
    "merger_found = any(node.is_merger for node in main_line)\n",
    "#remove last node from main_line\n",
    "main_line = main_line[:-1]\n",
    "\n",
    "trees.append(tree)\n",
    "main_lines.append(main_line)"
   ],
   "id": "81beea4445420558",
   "outputs": [
    {
     "ename": "KeyError",
     "evalue": "'Mvir'",
     "output_type": "error",
     "traceback": [
      "\u001B[0;31m---------------------------------------------------------------------------\u001B[0m",
      "\u001B[0;31mKeyError\u001B[0m                                  Traceback (most recent call last)",
      "Cell \u001B[0;32mIn[6], line 4\u001B[0m\n\u001B[1;32m      1\u001B[0m trees \u001B[38;5;241m=\u001B[39m []\n\u001B[1;32m      2\u001B[0m main_lines \u001B[38;5;241m=\u001B[39m []\n\u001B[0;32m----> 4\u001B[0m tree, main_line \u001B[38;5;241m=\u001B[39m \u001B[43mmerger_trees\u001B[49m\u001B[38;5;241;43m.\u001B[39;49m\u001B[43mbuild_merger_tree\u001B[49m\u001B[43m(\u001B[49m\u001B[43mhalo\u001B[49m\u001B[43m,\u001B[49m\u001B[43m \u001B[49m\u001B[43mmax_depth\u001B[49m\u001B[38;5;241;43m=\u001B[39;49m\u001B[38;5;241;43m4\u001B[39;49m\u001B[43m)\u001B[49m\n\u001B[1;32m      7\u001B[0m \u001B[38;5;66;03m# Check if any node in the main line is a merger\u001B[39;00m\n\u001B[1;32m      8\u001B[0m merger_found \u001B[38;5;241m=\u001B[39m \u001B[38;5;28many\u001B[39m(node\u001B[38;5;241m.\u001B[39mis_merger \u001B[38;5;28;01mfor\u001B[39;00m node \u001B[38;5;129;01min\u001B[39;00m main_line)\n",
      "File \u001B[0;32m~/mytangosproperty/merger_trees.py:88\u001B[0m, in \u001B[0;36mbuild_merger_tree\u001B[0;34m(input_halo, max_depth, min_fractional_weight, min_fractional_NDM, timeout)\u001B[0m\n\u001B[1;32m     85\u001B[0m tree \u001B[38;5;241m=\u001B[39m defaultdict(\u001B[38;5;28mlist\u001B[39m)\n\u001B[1;32m     87\u001B[0m \u001B[38;5;66;03m# Create the root node (starting halo at depth 0)\u001B[39;00m\n\u001B[0;32m---> 88\u001B[0m start_node \u001B[38;5;241m=\u001B[39m \u001B[43mHaloNode\u001B[49m\u001B[43m(\u001B[49m\u001B[43minput_halo\u001B[49m\u001B[43m)\u001B[49m\n\u001B[1;32m     89\u001B[0m tree[\u001B[38;5;241m0\u001B[39m]\u001B[38;5;241m.\u001B[39mappend(start_node)\n\u001B[1;32m     91\u001B[0m \u001B[38;5;66;03m# Use Tangos strategy to efficiently query all potential progenitor relationships\u001B[39;00m\n\u001B[1;32m     92\u001B[0m \u001B[38;5;66;03m# This gets all halo-to-halo links within the specified depth limit\u001B[39;00m\n",
      "File \u001B[0;32m~/mytangosproperty/merger_trees.py:32\u001B[0m, in \u001B[0;36mHaloNode.__init__\u001B[0;34m(self, halo)\u001B[0m\n\u001B[1;32m     30\u001B[0m \u001B[38;5;66;03m# Extract key physical properties from the halo\u001B[39;00m\n\u001B[1;32m     31\u001B[0m \u001B[38;5;28mself\u001B[39m\u001B[38;5;241m.\u001B[39mndm \u001B[38;5;241m=\u001B[39m halo\u001B[38;5;241m.\u001B[39mNDM  \u001B[38;5;66;03m# Number of dark matter particles\u001B[39;00m\n\u001B[0;32m---> 32\u001B[0m \u001B[38;5;28mself\u001B[39m\u001B[38;5;241m.\u001B[39mmvir \u001B[38;5;241m=\u001B[39m \u001B[43mhalo\u001B[49m\u001B[43m[\u001B[49m\u001B[38;5;124;43m'\u001B[39;49m\u001B[38;5;124;43mMvir\u001B[39;49m\u001B[38;5;124;43m'\u001B[39;49m\u001B[43m]\u001B[49m  \u001B[38;5;66;03m# Virial mass (total mass within virial radius)\u001B[39;00m\n\u001B[1;32m     33\u001B[0m \u001B[38;5;28mself\u001B[39m\u001B[38;5;241m.\u001B[39mmstar \u001B[38;5;241m=\u001B[39m halo[\u001B[38;5;124m'\u001B[39m\u001B[38;5;124mMstar\u001B[39m\u001B[38;5;124m'\u001B[39m]  \u001B[38;5;66;03m# Stellar mass\u001B[39;00m\n\u001B[1;32m     35\u001B[0m \u001B[38;5;66;03m# Merger-related properties (set later during tree construction)\u001B[39;00m\n",
      "File \u001B[0;32m~/miniconda3/envs/pynbody_beta/lib/python3.12/site-packages/tangos/core/halo.py:194\u001B[0m, in \u001B[0;36mSimulationObjectBase.__getitem__\u001B[0;34m(self, key)\u001B[0m\n\u001B[1;32m    192\u001B[0m \u001B[38;5;28;01mdef\u001B[39;00m \u001B[38;5;21m__getitem__\u001B[39m(\u001B[38;5;28mself\u001B[39m, key):\n\u001B[1;32m    193\u001B[0m \u001B[38;5;250m    \u001B[39m\u001B[38;5;124;03m\"\"\"Highest-level method for retrieving data or link\"\"\"\u001B[39;00m\n\u001B[0;32m--> 194\u001B[0m     \u001B[38;5;28;01mreturn\u001B[39;00m \u001B[38;5;28;43mself\u001B[39;49m\u001B[38;5;241;43m.\u001B[39;49m\u001B[43mget_data\u001B[49m\u001B[43m(\u001B[49m\u001B[43mkey\u001B[49m\u001B[43m)\u001B[49m\n",
      "File \u001B[0;32m~/miniconda3/envs/pynbody_beta/lib/python3.12/site-packages/tangos/core/halo.py:219\u001B[0m, in \u001B[0;36mSimulationObjectBase.get_data\u001B[0;34m(self, key, raw, always_return_array)\u001B[0m\n\u001B[1;32m    216\u001B[0m     getters\u001B[38;5;241m=\u001B[39m[extraction_patterns\u001B[38;5;241m.\u001B[39mHaloPropertyValueGetter()]\n\u001B[1;32m    217\u001B[0m getters\u001B[38;5;241m+\u001B[39m\u001B[38;5;241m=\u001B[39m[extraction_patterns\u001B[38;5;241m.\u001B[39mHaloLinkTargetGetter()]\n\u001B[0;32m--> 219\u001B[0m return_data \u001B[38;5;241m=\u001B[39m \u001B[38;5;28;43mself\u001B[39;49m\u001B[38;5;241;43m.\u001B[39;49m\u001B[43mget_objects\u001B[49m\u001B[43m(\u001B[49m\u001B[43mkey\u001B[49m\u001B[43m,\u001B[49m\u001B[43m \u001B[49m\u001B[43mgetters\u001B[49m\u001B[43m)\u001B[49m\n\u001B[1;32m    221\u001B[0m \u001B[38;5;28;01mif\u001B[39;00m (\u001B[38;5;129;01mnot\u001B[39;00m always_return_array) \u001B[38;5;129;01mand\u001B[39;00m \u001B[38;5;28mlen\u001B[39m(return_data) \u001B[38;5;241m==\u001B[39m \u001B[38;5;241m1\u001B[39m:\n\u001B[1;32m    222\u001B[0m     return_data \u001B[38;5;241m=\u001B[39m return_data[\u001B[38;5;241m0\u001B[39m]\n",
      "File \u001B[0;32m~/miniconda3/envs/pynbody_beta/lib/python3.12/site-packages/tangos/core/halo.py:236\u001B[0m, in \u001B[0;36mSimulationObjectBase.get_objects\u001B[0;34m(self, key, getters)\u001B[0m\n\u001B[1;32m    234\u001B[0m \u001B[38;5;28;01mfrom\u001B[39;00m \u001B[38;5;21;01m.\u001B[39;00m \u001B[38;5;28;01mimport\u001B[39;00m Session\n\u001B[1;32m    235\u001B[0m session \u001B[38;5;241m=\u001B[39m Session\u001B[38;5;241m.\u001B[39mobject_session(\u001B[38;5;28mself\u001B[39m)\n\u001B[0;32m--> 236\u001B[0m key_id \u001B[38;5;241m=\u001B[39m \u001B[43mget_dict_id\u001B[49m\u001B[43m(\u001B[49m\u001B[43mkey\u001B[49m\u001B[43m,\u001B[49m\u001B[43m \u001B[49m\u001B[43msession\u001B[49m\u001B[38;5;241;43m=\u001B[39;49m\u001B[43msession\u001B[49m\u001B[43m)\u001B[49m\n\u001B[1;32m    238\u001B[0m ret_values \u001B[38;5;241m=\u001B[39m []\n\u001B[1;32m    239\u001B[0m \u001B[38;5;28;01mfor\u001B[39;00m g \u001B[38;5;129;01min\u001B[39;00m getters:\n",
      "File \u001B[0;32m~/miniconda3/envs/pynbody_beta/lib/python3.12/site-packages/tangos/core/dictionary.py:45\u001B[0m, in \u001B[0;36mget_dict_id\u001B[0;34m(text, default, session, allow_query)\u001B[0m\n\u001B[1;32m     42\u001B[0m     close_session\u001B[38;5;241m=\u001B[39m\u001B[38;5;28;01mFalse\u001B[39;00m\n\u001B[1;32m     44\u001B[0m \u001B[38;5;28;01mtry\u001B[39;00m:\n\u001B[0;32m---> 45\u001B[0m     \u001B[38;5;28;01mreturn\u001B[39;00m \u001B[43m_dict_id\u001B[49m\u001B[43m[\u001B[49m\u001B[43mtext\u001B[49m\u001B[43m]\u001B[49m\n\u001B[1;32m     46\u001B[0m \u001B[38;5;28;01mexcept\u001B[39;00m \u001B[38;5;167;01mKeyError\u001B[39;00m:\n\u001B[1;32m     48\u001B[0m     \u001B[38;5;28;01mif\u001B[39;00m allow_query:\n",
      "\u001B[0;31mKeyError\u001B[0m: 'Mvir'"
     ]
    }
   ],
   "execution_count": 6
  },
  {
   "metadata": {},
   "cell_type": "code",
   "outputs": [],
   "execution_count": null,
   "source": "",
   "id": "e7296ed4f870fa3d"
  }
 ],
 "metadata": {
  "kernelspec": {
   "display_name": "Python 3 (ipykernel)",
   "language": "python",
   "name": "python3"
  },
  "language_info": {
   "codemirror_mode": {
    "name": "ipython",
    "version": 2
   },
   "file_extension": ".py",
   "mimetype": "text/x-python",
   "name": "python",
   "nbconvert_exporter": "python",
   "pygments_lexer": "ipython2",
   "version": "2.7.6"
  }
 },
 "nbformat": 4,
 "nbformat_minor": 5
}
